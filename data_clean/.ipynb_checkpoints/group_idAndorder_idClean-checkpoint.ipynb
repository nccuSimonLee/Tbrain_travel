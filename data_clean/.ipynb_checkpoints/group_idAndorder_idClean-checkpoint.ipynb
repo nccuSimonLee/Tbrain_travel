{
 "cells": [
  {
   "cell_type": "code",
   "execution_count": 11,
   "metadata": {},
   "outputs": [],
   "source": [
    "%store -r __importData\n",
    "import pandas as pd"
   ]
  },
  {
   "cell_type": "code",
   "execution_count": 16,
   "metadata": {},
   "outputs": [
    {
     "name": "stdout",
     "output_type": "stream",
     "text": [
      "import group_table\n",
      "import airline_table\n"
     ]
    },
    {
     "name": "stderr",
     "output_type": "stream",
     "text": [
      "C:\\Users\\S\\Anaconda3\\lib\\site-packages\\IPython\\core\\interactiveshell.py:2850: DtypeWarning: Columns (0,1) have mixed types. Specify dtype option on import or set low_memory=False.\n",
      "  if self.run_code(code, result):\n"
     ]
    },
    {
     "name": "stdout",
     "output_type": "stream",
     "text": [
      "import order_table\n",
      "import train_set\n",
      "import test_set\n"
     ]
    }
   ],
   "source": [
    "import sys\n",
    "sys.path.append('C:\\\\Users\\\\S\\\\travel_data')\n",
    "from feature_extraction import data\n",
    "group_table, airline_table, order_table, train_set, test_set = data.import_data()\n",
    "group_table[\"group_id\"] = group_table[\"group_id\"].astype(str)\n",
    "order_table[\"group_id\"] = order_table[\"group_id\"].astype(str)\n",
    "airline_table[\"group_id\"] = airline_table[\"group_id\"].astype(str)\n",
    "order_table[\"order_id\"] = order_table[\"order_id\"].astype(str)\n",
    "train_set[\"order_id\"] = train_set[\"order_id\"].astype(str)\n",
    "test_set[\"order_id\"] = test_set[\"order_id\"].astype(str)"
   ]
  },
  {
   "cell_type": "code",
   "execution_count": 18,
   "metadata": {},
   "outputs": [
    {
     "name": "stdout",
     "output_type": "stream",
     "text": [
      "Macro `__importData` created. To execute, type its name (without quotes).\n",
      "=== Macro contents: ===\n",
      "import sys\n",
      "sys.path.append('C:\\\\Users\\\\S\\\\travel_data')\n",
      "from feature_extraction import data\n",
      "group_table, airline_table, order_table, train_set, test_set = data.import_data()\n",
      "group_table[\"group_id\"] = group_table[\"group_id\"].astype(str)\n",
      "order_table[\"group_id\"] = order_table[\"group_id\"].astype(str)\n",
      "airline_table[\"group_id\"] = airline_table[\"group_id\"].astype(str)\n",
      "order_table[\"order_id\"] = order_table[\"order_id\"].astype(str)\n",
      "train_set[\"order_id\"] = train_set[\"order_id\"].astype(str)\n",
      "test_set[\"order_id\"] = test_set[\"order_id\"].astype(str)\n",
      " "
     ]
    }
   ],
   "source": [
    "%macro __importData 16"
   ]
  },
  {
   "cell_type": "code",
   "execution_count": 19,
   "metadata": {},
   "outputs": [
    {
     "name": "stdout",
     "output_type": "stream",
     "text": [
      "Stored '__importData' (Macro)\n"
     ]
    }
   ],
   "source": [
    "%store __importData"
   ]
  },
  {
   "cell_type": "code",
   "execution_count": 3,
   "metadata": {},
   "outputs": [
    {
     "name": "stdout",
     "output_type": "stream",
     "text": [
      "import group_table\n",
      "import airline_table\n"
     ]
    },
    {
     "name": "stderr",
     "output_type": "stream",
     "text": [
      "C:\\Users\\S\\Anaconda3\\lib\\site-packages\\IPython\\core\\interactiveshell.py:2850: DtypeWarning: Columns (0,1) have mixed types. Specify dtype option on import or set low_memory=False.\n",
      "  if self.run_code(code, result):\n"
     ]
    },
    {
     "name": "stdout",
     "output_type": "stream",
     "text": [
      "import order_table\n",
      "import train_set\n",
      "import test_set\n"
     ]
    }
   ],
   "source": [
    "__importData"
   ]
  },
  {
   "cell_type": "code",
   "execution_count": 5,
   "metadata": {},
   "outputs": [
    {
     "name": "stdout",
     "output_type": "stream",
     "text": [
      "order_table and group_table is consistent\n",
      "train_set and order_table is consistent\n",
      "test_set and order_table is consistent\n"
     ]
    }
   ],
   "source": [
    "order_table[\"group_id\"] = order_table[\"group_id\"].str.replace(\" \", \"\")\n",
    "order_table[\"order_id\"] = order_table[\"order_id\"].str.replace(\" \", \"\")\n",
    "\n",
    "if set(order_table[\"group_id\"]).difference(set(group_table[\"group_id\"])) == set():\n",
    "    print(\"order_table and group_table is consistent\")\n",
    "    group_table.to_csv(\"group.csv\", encoding=\"utf-8\", index=False)\n",
    "    \n",
    "if set(train_set[\"order_id\"]).difference(set(order_table[\"order_id\"])) == set():\n",
    "    print(\"train_set and order_table is consistent\")\n",
    "    order_table.to_csv(\"order.csv\", encoding=\"utf-8\", index=False)\n",
    "    train_set.to_csv(\"train-set.csv\", encoding=\"utf-8\", index=False)\n",
    "    \n",
    "if set(test_set[\"order_id\"]).difference(set(order_table[\"order_id\"])) == set():\n",
    "    print(\"test_set and order_table is consistent\")\n",
    "    test_set.to_csv(\"test-set.csv\", encoding=\"utf-8\", index=False)"
   ]
  }
 ],
 "metadata": {
  "kernelspec": {
   "display_name": "Python 3",
   "language": "python",
   "name": "python3"
  },
  "language_info": {
   "codemirror_mode": {
    "name": "ipython",
    "version": 3
   },
   "file_extension": ".py",
   "mimetype": "text/x-python",
   "name": "python",
   "nbconvert_exporter": "python",
   "pygments_lexer": "ipython3",
   "version": "3.6.4"
  }
 },
 "nbformat": 4,
 "nbformat_minor": 2
}
