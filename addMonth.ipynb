{
 "cells": [
  {
   "cell_type": "code",
   "execution_count": 1,
   "metadata": {},
   "outputs": [],
   "source": [
    "import pandas as pd"
   ]
  },
  {
   "cell_type": "code",
   "execution_count": 4,
   "metadata": {},
   "outputs": [],
   "source": [
    "data_dir = \"dataset/new_data/\"\n",
    "training_set = pd.read_csv(data_dir + \"training_set.csv\")\n",
    "with open(data_dir + \"categorical_feature.txt\", \"r\") as f:\n",
    "    categorical_feature = f.read().split(\"\\n\")\n",
    "    categorical_feature = list(filter(None, categorical_feature))"
   ]
  },
  {
   "cell_type": "code",
   "execution_count": 7,
   "metadata": {},
   "outputs": [],
   "source": [
    "for col in training_set.columns:\n",
    "    if \"Month\" in col and col not in categorical_feature:\n",
    "        categorical_feature.append(col)"
   ]
  },
  {
   "cell_type": "code",
   "execution_count": 9,
   "metadata": {},
   "outputs": [],
   "source": [
    "categorical_feature2 = []\n",
    "for feature in categorical_feature:\n",
    "    if \"Dayofweek\" not in feature:\n",
    "        categorical_feature2.append(feature)"
   ]
  },
  {
   "cell_type": "code",
   "execution_count": 11,
   "metadata": {},
   "outputs": [],
   "source": [
    "with open(data_dir + \"categorical_feature2.txt\", \"w\", encoding=\"utf-8\", newline=\"\") as f:\n",
    "    for feature in categorical_feature2:\n",
    "        f.write(feature + \"\\r\\n\")"
   ]
  }
 ],
 "metadata": {
  "kernelspec": {
   "display_name": "Python 3",
   "language": "python",
   "name": "python3"
  },
  "language_info": {
   "codemirror_mode": {
    "name": "ipython",
    "version": 3
   },
   "file_extension": ".py",
   "mimetype": "text/x-python",
   "name": "python",
   "nbconvert_exporter": "python",
   "pygments_lexer": "ipython3",
   "version": "3.6.4"
  }
 },
 "nbformat": 4,
 "nbformat_minor": 2
}
