{
 "cells": [
  {
   "cell_type": "code",
   "execution_count": 28,
   "metadata": {},
   "outputs": [],
   "source": [
    "from sklearn.svm import SVC\n",
    "from sklearn.linear_model import LogisticRegression\n",
    "import pandas as pd\n",
    "import numpy as np\n",
    "from sklearn.metrics import roc_auc_score\n",
    "from sklearn.model_selection import train_test_split, StratifiedKFold\n",
    "import ggplot as gplt\n",
    "from tools.mean_encoder import *\n",
    "from sklearn.preprocessing import MinMaxScaler\n",
    "import time"
   ]
  },
  {
   "cell_type": "code",
   "execution_count": 5,
   "metadata": {
    "scrolled": true
   },
   "outputs": [
    {
     "name": "stderr",
     "output_type": "stream",
     "text": [
      "C:\\Users\\S\\Anaconda3\\lib\\site-packages\\ipykernel_launcher.py:37: SettingWithCopyWarning: \n",
      "A value is trying to be set on a copy of a slice from a DataFrame\n",
      "\n",
      "See the caveats in the documentation: http://pandas.pydata.org/pandas-docs/stable/indexing.html#indexing-view-versus-copy\n",
      "C:\\Users\\S\\travel_data\\tools\\mean_encoder.py:9: SettingWithCopyWarning: \n",
      "A value is trying to be set on a copy of a slice from a DataFrame.\n",
      "Try using .loc[row_indexer,col_indexer] = value instead\n",
      "\n",
      "See the caveats in the documentation: http://pandas.pydata.org/pandas-docs/stable/indexing.html#indexing-view-versus-copy\n",
      "  input_table[target] = y\n",
      "C:\\Users\\S\\travel_data\\tools\\mean_encoder.py:22: SettingWithCopyWarning: \n",
      "A value is trying to be set on a copy of a slice from a DataFrame.\n",
      "Try using .loc[row_indexer,col_indexer] = value instead\n",
      "\n",
      "See the caveats in the documentation: http://pandas.pydata.org/pandas-docs/stable/indexing.html#indexing-view-versus-copy\n",
      "  x_val[colname] = means\n",
      "C:\\Users\\S\\travel_data\\tools\\mean_encoder.py:25: SettingWithCopyWarning: \n",
      "A value is trying to be set on a copy of a slice from a DataFrame\n",
      "\n",
      "See the caveats in the documentation: http://pandas.pydata.org/pandas-docs/stable/indexing.html#indexing-view-versus-copy\n",
      "  input_table.drop(columns=[target], inplace=True)\n"
     ]
    }
   ],
   "source": [
    "train_set = pd.read_csv(\"dataset/train_val/training_set.csv\")\n",
    "test_set = pd.read_csv(\"dataset/train_val/testing_set.csv\")\n",
    "\n",
    "#airport_me = pd.read_csv(\"./feature_extraction/features/airport_mean_encoding.csv\")\n",
    "#train_set = pd.merge(train_set, airport_me, on=\"order_id\", how=\"left\")\n",
    "\n",
    "\"\"\"train_ae_feature = pd.read_csv(\"./feature_extraction/train_ae_feature.csv\")\n",
    "train_set = pd.merge(train_set, train_ae_feature, on=\"order_id\", how=\"left\")\"\"\"\n",
    "\n",
    "#long_weekend_feat = pd.read_csv(\"./feature_extraction/features/long_weekend_feature_2.csv\")\n",
    "train_set[\"group_id\"] = train_set[\"group_id\"].astype(str)\n",
    "#train_set = pd.merge(train_set, long_weekend_feat, on=\"group_id\", how=\"left\")\n",
    "\n",
    "\"\"\"same_month_group_ratio = pd.read_csv(\"./feature_extraction/features/same_month_group_ratio.csv\")\n",
    "train_set = pd.merge(train_set, same_month_group_ratio, on=\"group_id\", how=\"left\")\"\"\"\n",
    "\n",
    "group_price_days = pd.read_csv(\"./feature_extraction/features/group_days_price.csv\")\n",
    "train_set = pd.merge(train_set, group_price_days, on=\"group_id\", how=\"left\")\n",
    "\n",
    "y_train = train_set[\"deal_or_not\"]\n",
    "for table in [train_set, test_set]:\n",
    "    table.drop(columns=[\"deal_or_not\", \"group_id\", \"order_id\"], inplace=True)\n",
    "    \n",
    "train_set[\"accum_count_ratio\"] = train_set[\"accum_order\"] / train_set[\"group_id_count\"]\n",
    "    \n",
    "train_x, val_x, train_y, val_y = train_test_split(train_set, y_train, random_state=104702016,\n",
    "                                                  shuffle=True, stratify=y_train)\n",
    "\n",
    "drop_col = ['source1_source2', 'source1_unit', 'source2_unit',\n",
    "       'source1_source2_unit', 'order_month', 'order_quarter', 'subline_area',\n",
    "       'begin_month', 'begin_quarter', 'abroad_airport', 'home_airport',\n",
    "       'abroad_hour', 'abroad_part_of_day', 'abroad_DoY', 'abroad_DoW',\n",
    "       'abroad_DoM', 'home_DoW', 'home_DoM', 'home_DoY', 'home_hour',\n",
    "       'home_part_of_day']\n",
    "drop_col += [x for x in train_x.columns if \"prod_vec\" in x]\n",
    "for table in [train_x, val_x]:\n",
    "    table.drop(columns=drop_col, inplace=True)\n",
    "\n",
    "#and \"DoY\" not in col\n",
    "cat_feature = []\n",
    "key_words = [\"source\", \"unit\", \"sub\", \"area\", \"order\", \"begin\", \"_airport\",\n",
    "             \"abroad\", \"home\"]\n",
    "for i, col in enumerate(train_x.columns):\n",
    "    for kw in key_words:\n",
    "        if kw in col and \"duration\" not in col and \"DoY\" not in col and \"target\" not in col \\\n",
    "         and \"accum\" not in col and \"_z\" not in col and i not in cat_feature:\n",
    "            cat_feature.append(i)\n",
    "\n",
    "cv = StratifiedKFold(5, shuffle=True, random_state=851206)\n",
    "mean_enc_col = list(train_x.columns[cat_feature])\n",
    "train_x = mean_encoder(train_x, train_y, mean_enc_col, \"deal_or_not\", cv)\n",
    "val_x = test_set_encoder(train_x, train_y, val_x, mean_enc_col, \"deal_or_not\")\n",
    "\n",
    "for table in [train_x, val_x]:\n",
    "    table.drop(columns=mean_enc_col, inplace=True)"
   ]
  },
  {
   "cell_type": "code",
   "execution_count": 18,
   "metadata": {},
   "outputs": [
    {
     "data": {
      "text/plain": [
       "0.6454948014884749"
      ]
     },
     "execution_count": 18,
     "metadata": {},
     "output_type": "execute_result"
    }
   ],
   "source": [
    "val_pred = logistic_model.predict_proba(val_x)\n",
    "roc_auc_score(val_y, val_pred[:, 1])"
   ]
  },
  {
   "cell_type": "code",
   "execution_count": 6,
   "metadata": {},
   "outputs": [],
   "source": [
    "for table in [train_x, val_x]:\n",
    "    table.replace([np.inf, -np.inf], np.nan, inplace=True)\n",
    "    table.fillna(table.mean(), inplace=True)\n",
    "\n",
    "mms = MinMaxScaler()\n",
    "train_x = mms.fit_transform(train_x)\n",
    "val_x = mms.transform(val_x)"
   ]
  },
  {
   "cell_type": "code",
   "execution_count": 23,
   "metadata": {},
   "outputs": [
    {
     "data": {
      "text/plain": [
       "LogisticRegression(C=1, class_weight='balanced', dual=False,\n",
       "          fit_intercept=True, intercept_scaling=1, max_iter=100,\n",
       "          multi_class='ovr', n_jobs=1, penalty='l2', random_state=None,\n",
       "          solver='liblinear', tol=0.0001, verbose=0, warm_start=False)"
      ]
     },
     "execution_count": 23,
     "metadata": {},
     "output_type": "execute_result"
    }
   ],
   "source": [
    "logistic_model = LogisticRegression(C=1, class_weight=\"balanced\")\n",
    "logistic_model.fit(train_x, train_y)"
   ]
  },
  {
   "cell_type": "code",
   "execution_count": 24,
   "metadata": {},
   "outputs": [
    {
     "data": {
      "text/plain": [
       "0.6450402069439564"
      ]
     },
     "execution_count": 24,
     "metadata": {},
     "output_type": "execute_result"
    }
   ],
   "source": [
    "train_pred = logistic_model.predict_proba(train_x)\n",
    "roc_auc_score(train_y, train_pred[:, 1])"
   ]
  },
  {
   "cell_type": "code",
   "execution_count": 25,
   "metadata": {},
   "outputs": [
    {
     "data": {
      "text/plain": [
       "0.6474940389544135"
      ]
     },
     "execution_count": 25,
     "metadata": {},
     "output_type": "execute_result"
    }
   ],
   "source": [
    "val_pred = logistic_model.predict_proba(val_x)\n",
    "roc_auc_score(val_y, val_pred[:, 1])"
   ]
  },
  {
   "cell_type": "code",
   "execution_count": null,
   "metadata": {},
   "outputs": [],
   "source": [
    "s = time.clock()\n",
    "svm_model = SVC(kernel=\"linear\", probability=True, random_state=104702016, class_weight=\"balanced\")\n",
    "svm_model.fit(train_x, train_y)\n",
    "e = time.clock()\n",
    "print(\"time used:\", (e-s)/60, \"mins.\")"
   ]
  }
 ],
 "metadata": {
  "kernelspec": {
   "display_name": "Python 3",
   "language": "python",
   "name": "python3"
  },
  "language_info": {
   "codemirror_mode": {
    "name": "ipython",
    "version": 3
   },
   "file_extension": ".py",
   "mimetype": "text/x-python",
   "name": "python",
   "nbconvert_exporter": "python",
   "pygments_lexer": "ipython3",
   "version": "3.6.4"
  }
 },
 "nbformat": 4,
 "nbformat_minor": 2
}
