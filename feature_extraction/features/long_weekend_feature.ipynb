{
 "cells": [
  {
   "cell_type": "code",
   "execution_count": 2,
   "metadata": {},
   "outputs": [],
   "source": [
    "%store -r __importData\n",
    "import pandas as pd\n",
    "import numpy as np\n",
    "import ggplot as gplt\n",
    "from sklearn.preprocessing import LabelEncoder\n",
    "import seaborn as sns\n",
    "import matplotlib.pyplot as plt\n",
    "import time"
   ]
  },
  {
   "cell_type": "code",
   "execution_count": 3,
   "metadata": {},
   "outputs": [
    {
     "name": "stdout",
     "output_type": "stream",
     "text": [
      "import group_table\n"
     ]
    },
    {
     "name": "stderr",
     "output_type": "stream",
     "text": [
      "C:\\Users\\S\\Anaconda3\\lib\\site-packages\\IPython\\core\\interactiveshell.py:2850: DtypeWarning: Columns (0) have mixed types. Specify dtype option on import or set low_memory=False.\n",
      "  if self.run_code(code, result):\n"
     ]
    },
    {
     "name": "stdout",
     "output_type": "stream",
     "text": [
      "import airline_table\n"
     ]
    },
    {
     "name": "stderr",
     "output_type": "stream",
     "text": [
      "C:\\Users\\S\\Anaconda3\\lib\\site-packages\\IPython\\core\\interactiveshell.py:2850: DtypeWarning: Columns (0,1) have mixed types. Specify dtype option on import or set low_memory=False.\n",
      "  if self.run_code(code, result):\n"
     ]
    },
    {
     "name": "stdout",
     "output_type": "stream",
     "text": [
      "import order_table\n",
      "import train_set\n",
      "import test_set\n"
     ]
    }
   ],
   "source": [
    "__importData"
   ]
  },
  {
   "cell_type": "code",
   "execution_count": 6,
   "metadata": {},
   "outputs": [],
   "source": [
    "def vacation_feature(x):\n",
    "    nearest_weekend = np.argsort(np.abs(x[\"begin_date\"] - long_weekend[\"long_weekend_date\"]))[0]\n",
    "    nearest_weekend = long_weekend.iloc[nearest_weekend][\"long_weekend_id\"]\n",
    "    return nearest_weekend\n",
    "\n",
    "long_weekend = pd.DataFrame(columns=[\"long_weekend_id\", \"long_weekend_date\", \"long_weekend_days\",\n",
    "                                     \"strategy_weekend_days\", \"cost_days\"], index=range(16))\n",
    "long_weekend[\"long_weekend_date\"] = [\"2016-12-31\", \"2017-01-27\", \"2017-02-25\", \"2017-04-01\", \"2017-04-29\",\n",
    "                                     \"2017-05-27\", \"2017-10-04\", \"2017-10-07\", \"2017-12-30\", \"2018-02-15\",\n",
    "                                     \"2018-02-28\", \"2018-04-04\", \"2018-04-28\",\"2018-06-16\", \"2018-09-22\", \"2018-10-10\"]\n",
    "long_weekend[\"long_weekend_days\"] = [3, 6, 4, 4, 3, 6, 1, 4,\n",
    "                                     3, 6, 1, 5, 3, 3, 3, 1]\n",
    "long_weekend[\"strategy_weekend_days\"] = [3, 10, 9, 9, 9, 9, 7, 4,\n",
    "                                         3, 11, 5, 9, 4, 3, 3, 5]\n",
    "long_weekend[\"cost_days\"] = [0, 2, 3, 3, 4, 3, 2, 0,\n",
    "                             0, 3, 2, 2, 1, 0, 0, 2]\n",
    "long_weekend[\"long_weekend_date\"] = pd.to_datetime(long_weekend[\"long_weekend_date\"])\n",
    "long_weekend[\"long_weekend_id\"] = list(range(16))"
   ]
  },
  {
   "cell_type": "code",
   "execution_count": 7,
   "metadata": {},
   "outputs": [
    {
     "name": "stdout",
     "output_type": "stream",
     "text": [
      "80.95490218574207\n"
     ]
    }
   ],
   "source": [
    "group_table[\"begin_date\"] = pd.to_datetime(group_table[\"begin_date\"])\n",
    "s = time.clock()\n",
    "group_table[\"long_weekend_id\"] = group_table.apply(vacation_feature, axis=1)\n",
    "e = time.clock()\n",
    "print(e-s)"
   ]
  },
  {
   "cell_type": "code",
   "execution_count": 9,
   "metadata": {},
   "outputs": [],
   "source": [
    "group_table = pd.merge(group_table, long_weekend, on=\"long_weekend_id\", how=\"left\")"
   ]
  },
  {
   "cell_type": "code",
   "execution_count": 13,
   "metadata": {},
   "outputs": [],
   "source": [
    "group_table[[\"group_id\"] + list(group_table.columns[-4:])].to_csv(\"long_weekend_feature.csv\", encoding=\"utf-8\", index=False)"
   ]
  },
  {
   "cell_type": "code",
   "execution_count": 16,
   "metadata": {},
   "outputs": [],
   "source": [
    "group_table = group_table[[\"group_id\", \"days\", \"begin_date\"] + list(group_table.columns[-4:])]"
   ]
  },
  {
   "cell_type": "code",
   "execution_count": 17,
   "metadata": {},
   "outputs": [],
   "source": [
    "def vacation_extra_feat(input_table):\n",
    "    table = input_table\n",
    "    table[\"long_weekend_dist\"] = list(map(lambda x: x.days, table[\"begin_date\"] - table[\"long_weekend_date\"]))\n",
    "    table[\"days_weekenddays_diff\"] = table[\"days\"] - table[\"long_weekend_days\"]\n",
    "    table[\"days_strategy_diff\"] = table[\"days\"] - table[\"strategy_weekend_days\"]\n",
    "    return table"
   ]
  },
  {
   "cell_type": "code",
   "execution_count": 18,
   "metadata": {},
   "outputs": [
    {
     "name": "stderr",
     "output_type": "stream",
     "text": [
      "C:\\Users\\S\\Anaconda3\\lib\\site-packages\\ipykernel_launcher.py:3: SettingWithCopyWarning: \n",
      "A value is trying to be set on a copy of a slice from a DataFrame.\n",
      "Try using .loc[row_indexer,col_indexer] = value instead\n",
      "\n",
      "See the caveats in the documentation: http://pandas.pydata.org/pandas-docs/stable/indexing.html#indexing-view-versus-copy\n",
      "  This is separate from the ipykernel package so we can avoid doing imports until\n",
      "C:\\Users\\S\\Anaconda3\\lib\\site-packages\\ipykernel_launcher.py:4: SettingWithCopyWarning: \n",
      "A value is trying to be set on a copy of a slice from a DataFrame.\n",
      "Try using .loc[row_indexer,col_indexer] = value instead\n",
      "\n",
      "See the caveats in the documentation: http://pandas.pydata.org/pandas-docs/stable/indexing.html#indexing-view-versus-copy\n",
      "  after removing the cwd from sys.path.\n",
      "C:\\Users\\S\\Anaconda3\\lib\\site-packages\\ipykernel_launcher.py:5: SettingWithCopyWarning: \n",
      "A value is trying to be set on a copy of a slice from a DataFrame.\n",
      "Try using .loc[row_indexer,col_indexer] = value instead\n",
      "\n",
      "See the caveats in the documentation: http://pandas.pydata.org/pandas-docs/stable/indexing.html#indexing-view-versus-copy\n",
      "  \"\"\"\n"
     ]
    }
   ],
   "source": [
    "final_vac_feat = vacation_extra_feat(group_table)"
   ]
  },
  {
   "cell_type": "code",
   "execution_count": 20,
   "metadata": {},
   "outputs": [],
   "source": [
    "final_vac_feat.drop(columns=[\"begin_date\", \"days\", \"long_weekend_date\"]).to_csv(\"long_weekend_feature_2.csv\",\n",
    "                                                                                encoding=\"utf-8\", index=False)"
   ]
  }
 ],
 "metadata": {
  "kernelspec": {
   "display_name": "Python 3",
   "language": "python",
   "name": "python3"
  },
  "language_info": {
   "codemirror_mode": {
    "name": "ipython",
    "version": 3
   },
   "file_extension": ".py",
   "mimetype": "text/x-python",
   "name": "python",
   "nbconvert_exporter": "python",
   "pygments_lexer": "ipython3",
   "version": "3.6.4"
  }
 },
 "nbformat": 4,
 "nbformat_minor": 2
}
