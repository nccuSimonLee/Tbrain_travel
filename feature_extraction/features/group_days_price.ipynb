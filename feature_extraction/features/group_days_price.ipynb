{
 "cells": [
  {
   "cell_type": "code",
   "execution_count": 46,
   "metadata": {},
   "outputs": [],
   "source": [
    "%store -r __importData\n",
    "import pandas as pd\n",
    "import numpy as np\n",
    "import ggplot as gplt\n",
    "from sklearn.preprocessing import LabelEncoder\n",
    "import seaborn as sns\n",
    "import matplotlib.pyplot as plt\n",
    "import time\n",
    "import sys"
   ]
  },
  {
   "cell_type": "code",
   "execution_count": 2,
   "metadata": {},
   "outputs": [
    {
     "name": "stdout",
     "output_type": "stream",
     "text": [
      "import group_table\n"
     ]
    },
    {
     "name": "stderr",
     "output_type": "stream",
     "text": [
      "C:\\Users\\S\\Anaconda3\\lib\\site-packages\\IPython\\core\\interactiveshell.py:2850: DtypeWarning: Columns (0) have mixed types. Specify dtype option on import or set low_memory=False.\n",
      "  if self.run_code(code, result):\n"
     ]
    },
    {
     "name": "stdout",
     "output_type": "stream",
     "text": [
      "import airline_table\n"
     ]
    },
    {
     "name": "stderr",
     "output_type": "stream",
     "text": [
      "C:\\Users\\S\\Anaconda3\\lib\\site-packages\\IPython\\core\\interactiveshell.py:2850: DtypeWarning: Columns (0,1) have mixed types. Specify dtype option on import or set low_memory=False.\n",
      "  if self.run_code(code, result):\n"
     ]
    },
    {
     "name": "stdout",
     "output_type": "stream",
     "text": [
      "import order_table\n",
      "import train_set\n",
      "import test_set\n"
     ]
    }
   ],
   "source": [
    "__importData"
   ]
  },
  {
   "cell_type": "code",
   "execution_count": 38,
   "metadata": {},
   "outputs": [
    {
     "name": "stderr",
     "output_type": "stream",
     "text": [
      "C:\\Users\\S\\Anaconda3\\lib\\site-packages\\pandas\\core\\groupby.py:4291: FutureWarning: using a dict with renaming is deprecated and will be removed in a future version\n",
      "  return super(DataFrameGroupBy, self).aggregate(arg, *args, **kwargs)\n"
     ]
    }
   ],
   "source": [
    "gb_subline = group_table.groupby(\"sub_line\", as_index=False).agg({\"price\": {\"subline_price_mean\": \"mean\",\n",
    "                                                                            \"subline_price_std\": \"std\"},\n",
    "                                                                  \"days\": {\"subline_days_mean\": \"mean\",\n",
    "                                                                           \"subline_days_std\": \"std\"}})\n",
    "gb_subline.columns = [gb_subline.columns.values[0][0]] + [x[1] for x in gb_subline.columns.values[1:]]\n",
    "\n",
    "gb_area = group_table.groupby(\"area\", as_index=False).agg({\"price\": {\"area_price_mean\": \"mean\",\n",
    "                                                                     \"area_price_std\": \"std\"},\n",
    "                                                           \"days\": {\"area_days_mean\": \"mean\",\n",
    "                                                                    \"area_days_std\": \"std\"}})\n",
    "gb_area.columns = [gb_area.columns.values[0][0]] + [x[1] for x in gb_area.columns.values[1:]]\n",
    "\n",
    "gb_overall = group_table.groupby([\"sub_line\", \"area\"]).agg({\"price\": {\"overall_price_mean\": \"mean\",\n",
    "                                                                      \"overall_price_std\": \"std\"},\n",
    "                                                            \"days\": {\"overall_days_mean\": \"mean\",\n",
    "                                                                     \"overall_days_std\": \"std\"}}).reset_index()\n",
    "gb_overall.columns = [x[0] for x in gb_overall.columns.values[:2]] + [x[1] for x in gb_overall.columns.values[2:]]\n",
    "\n",
    "for table in [gb_subline, gb_area, gb_overall]:\n",
    "    table.fillna(-999, inplace=True)"
   ]
  },
  {
   "cell_type": "code",
   "execution_count": 39,
   "metadata": {},
   "outputs": [],
   "source": [
    "tmp_group = pd.merge(group_table, gb_subline, on=\"sub_line\", how=\"left\")\n",
    "tmp_group = pd.merge(tmp_group, gb_area, on=\"area\", how=\"left\")\n",
    "tmp_group = pd.merge(tmp_group, gb_overall, on=[\"sub_line\", \"area\"], how=\"left\")"
   ]
  },
  {
   "cell_type": "code",
   "execution_count": 47,
   "metadata": {},
   "outputs": [],
   "source": [
    "for view in [\"subline\", \"area\", \"overall\"]:\n",
    "    group_table[view + \"_price_z\"] = (tmp_group[\"price\"] - tmp_group[view + \"_price_mean\"]) / (tmp_group[view + \"_price_std\"] + \\\n",
    "                                                                                              sys.float_info.epsilon)\n",
    "    group_table[view + \"_days_z\"] = (tmp_group[\"days\"] - tmp_group[view + \"_days_mean\"]) / (tmp_group[view + \"_days_std\"] + \\\n",
    "                                                                                            sys.float_info.epsilon)"
   ]
  },
  {
   "cell_type": "code",
   "execution_count": 51,
   "metadata": {},
   "outputs": [],
   "source": [
    "group_table[[\"group_id\"] + list(group_table.columns[-6:])].to_csv(\"group_days_price.csv\", encoding=\"utf-8\", index=False)"
   ]
  }
 ],
 "metadata": {
  "kernelspec": {
   "display_name": "Python 3",
   "language": "python",
   "name": "python3"
  },
  "language_info": {
   "codemirror_mode": {
    "name": "ipython",
    "version": 3
   },
   "file_extension": ".py",
   "mimetype": "text/x-python",
   "name": "python",
   "nbconvert_exporter": "python",
   "pygments_lexer": "ipython3",
   "version": "3.6.4"
  }
 },
 "nbformat": 4,
 "nbformat_minor": 2
}
