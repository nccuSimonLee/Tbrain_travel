{
 "cells": [
  {
   "cell_type": "code",
   "execution_count": 162,
   "metadata": {},
   "outputs": [],
   "source": [
    "%store -r __importData\n",
    "import numpy as np\n",
    "import pandas as pd\n",
    "from pyairports.airports import Airports\n",
    "import geopy.distance\n",
    "import time\n",
    "import multiprocessing as mp\n",
    "from sklearn.preprocessing import LabelEncoder"
   ]
  },
  {
   "cell_type": "code",
   "execution_count": 1,
   "metadata": {},
   "outputs": [],
   "source": [
    "import math\n",
    "\n",
    "def distance(origin, destination):\n",
    "    lat1, lon1 = origin\n",
    "    lat2, lon2 = destination\n",
    "    radius = 6371 # km\n",
    "\n",
    "    dlat = math.radians(lat2-lat1)\n",
    "    dlon = math.radians(lon2-lon1)\n",
    "    a = math.sin(dlat/2) * math.sin(dlat/2) + math.cos(math.radians(lat1)) \\\n",
    "        * math.cos(math.radians(lat2)) * math.sin(dlon/2) * math.sin(dlon/2)\n",
    "    c = 2 * math.atan2(math.sqrt(a), math.sqrt(1-a))\n",
    "    d = radius * c\n",
    "\n",
    "    return d"
   ]
  },
  {
   "cell_type": "code",
   "execution_count": 3,
   "metadata": {},
   "outputs": [],
   "source": [
    "airports = Airports()"
   ]
  },
  {
   "cell_type": "code",
   "execution_count": 4,
   "metadata": {},
   "outputs": [
    {
     "name": "stdout",
     "output_type": "stream",
     "text": [
      "import group_table\n",
      "import airline_table\n"
     ]
    },
    {
     "name": "stderr",
     "output_type": "stream",
     "text": [
      "C:\\Users\\S\\Anaconda3\\lib\\site-packages\\IPython\\core\\interactiveshell.py:2850: DtypeWarning: Columns (0,1) have mixed types. Specify dtype option on import or set low_memory=False.\n",
      "  if self.run_code(code, result):\n"
     ]
    },
    {
     "name": "stdout",
     "output_type": "stream",
     "text": [
      "import order_table\n",
      "import train_set\n",
      "import test_set\n"
     ]
    }
   ],
   "source": [
    "__importData"
   ]
  },
  {
   "cell_type": "code",
   "execution_count": 5,
   "metadata": {},
   "outputs": [],
   "source": [
    "airline_table[\"fly_time\"] = pd.to_datetime(airline_table[\"fly_time\"])\n",
    "airline_table[\"arrive_time\"] = pd.to_datetime(airline_table[\"arrive_time\"])\n",
    "airline_table[\"src_airport\"] = airline_table[\"src_airport\"].str.split(\" \", expand=True)[0]\n",
    "airline_table[\"dst_airport\"] = airline_table[\"dst_airport\"].str.split(\" \", expand=True)[0]"
   ]
  },
  {
   "cell_type": "code",
   "execution_count": 6,
   "metadata": {},
   "outputs": [],
   "source": [
    "airline_table[\"src_tz\"] = airline_table[\"src_airport\"].map(lambda x: airports.airport_iata(x)[-3])\n",
    "airline_table[\"dst_tz\"] = airline_table[\"dst_airport\"].map(lambda x: airports.airport_iata(x)[-3])\n",
    "for col in [\"src_tz\", \"dst_tz\"]:\n",
    "    airline_table[col] = airline_table[col].astype(float)"
   ]
  },
  {
   "cell_type": "code",
   "execution_count": 7,
   "metadata": {},
   "outputs": [],
   "source": [
    "flight_time = airline_table[\"arrive_time\"] - airline_table[\"fly_time\"]\n",
    "flight_time = np.array(list(map(lambda x: x.total_seconds(), flight_time)))\n",
    "jet_lag = np.array(airline_table[\"dst_tz\"] - airline_table[\"src_tz\"])*3600\n",
    "flight_time = (flight_time - jet_lag) / 3600\n",
    "airline_table[\"flight_time\"] = flight_time"
   ]
  },
  {
   "cell_type": "code",
   "execution_count": 8,
   "metadata": {},
   "outputs": [],
   "source": [
    "abnormal_ind = list(airline_table[airline_table[\"flight_time\"] < 0].index)\n",
    "abnormal_ind += list(airline_table[airline_table[\"flight_time\"] > 50].index)\n",
    "\n",
    "tmp = airline_table.loc[airline_table.flight_time < 0, [\"arrive_time\"]]\n",
    "airline_table.loc[airline_table.flight_time < 0, [\"arrive_time\"]] = tmp[\"arrive_time\"] + pd.Timedelta('1 days')\n",
    "\n",
    "tmp = airline_table.loc[airline_table.flight_time > 50, [\"fly_time\"]]\n",
    "airline_table.loc[airline_table.flight_time > 50, [\"fly_time\"]] = tmp[\"fly_time\"] + pd.DateOffset(years=1)\n",
    "\n",
    "flight_time = airline_table[\"arrive_time\"] - airline_table[\"fly_time\"]\n",
    "flight_time = np.array(list(map(lambda x: x.total_seconds(), flight_time)))\n",
    "jet_lag = np.array(airline_table[\"dst_tz\"] - airline_table[\"src_tz\"])*3600\n",
    "flight_time = (flight_time - jet_lag) / 3600\n",
    "airline_table[\"flight_time\"] = flight_time"
   ]
  },
  {
   "cell_type": "code",
   "execution_count": 8,
   "metadata": {},
   "outputs": [
    {
     "data": {
      "text/plain": [
       "count    104275.000000\n",
       "mean          4.743051\n",
       "std           3.833476\n",
       "min           0.000000\n",
       "25%           2.500000\n",
       "50%           3.250000\n",
       "75%           4.666667\n",
       "max          38.083333\n",
       "Name: flight_time, dtype: float64"
      ]
     },
     "execution_count": 8,
     "metadata": {},
     "output_type": "execute_result"
    }
   ],
   "source": [
    "airline_table.flight_time.describe()"
   ]
  },
  {
   "cell_type": "code",
   "execution_count": 10,
   "metadata": {
    "scrolled": true
   },
   "outputs": [
    {
     "data": {
      "text/plain": [
       "array([[<matplotlib.axes._subplots.AxesSubplot object at 0x0000020487A1B550>]],\n",
       "      dtype=object)"
      ]
     },
     "execution_count": 10,
     "metadata": {},
     "output_type": "execute_result"
    },
    {
     "data": {
      "image/png": "[encoded data removed]",
      "text/plain": [
       "<matplotlib.figure.Figure at 0x20487ae3240>"
      ]
     },
     "metadata": {
      "needs_background": "light"
     },
     "output_type": "display_data"
    }
   ],
   "source": [
    "airline_table.hist(\"flight_time\")"
   ]
  },
  {
   "cell_type": "code",
   "execution_count": 46,
   "metadata": {},
   "outputs": [],
   "source": [
    "def get_distance(x):\n",
    "    airports = Airports()\n",
    "    src_info = airports.airport_iata(x[1][\"src_airport\"])\n",
    "    src_coord = (float(src_info.lat), float(src_info.lon))\n",
    "    dst_info = airports.airport_iata(x[1][\"dst_airport\"])\n",
    "    dst_coord = (float(dst_info.lat), float(dst_info.lon))\n",
    "    return geopy.distance.distance(src_coord, dst_coord).km"
   ]
  },
  {
   "cell_type": "code",
   "execution_count": 45,
   "metadata": {},
   "outputs": [],
   "source": [
    "def get_distance2(x):\n",
    "    airports = Airports()\n",
    "    src_info = airports.airport_iata(x[1][\"src_airport\"])\n",
    "    src_coord = (float(src_info.lat), float(src_info.lon))\n",
    "    dst_info = airports.airport_iata(x[1][\"dst_airport\"])\n",
    "    dst_coord = (float(dst_info.lat), float(dst_info.lon))\n",
    "    return distance(src_coord, dst_coord)"
   ]
  },
  {
   "cell_type": "code",
   "execution_count": 47,
   "metadata": {},
   "outputs": [
    {
     "ename": "TypeError",
     "evalue": "unsupported operand type(s) for -: 'builtin_function_or_method' and 'float'",
     "output_type": "error",
     "traceback": [
      "\u001b[1;31m---------------------------------------------------------------------------\u001b[0m",
      "\u001b[1;31mTypeError\u001b[0m                                 Traceback (most recent call last)",
      "\u001b[1;32m<ipython-input-47-99e1b9d8373e>\u001b[0m in \u001b[0;36m<module>\u001b[1;34m()\u001b[0m\n\u001b[0;32m      2\u001b[0m \u001b[0mflight_dist\u001b[0m \u001b[1;33m=\u001b[0m \u001b[0mlist\u001b[0m\u001b[1;33m(\u001b[0m\u001b[0mmap\u001b[0m\u001b[1;33m(\u001b[0m\u001b[0mget_distance\u001b[0m\u001b[1;33m,\u001b[0m \u001b[0mairline_table\u001b[0m\u001b[1;33m.\u001b[0m\u001b[0miterrows\u001b[0m\u001b[1;33m(\u001b[0m\u001b[1;33m)\u001b[0m\u001b[1;33m)\u001b[0m\u001b[1;33m)\u001b[0m\u001b[1;33m\u001b[0m\u001b[0m\n\u001b[0;32m      3\u001b[0m \u001b[0me\u001b[0m \u001b[1;33m=\u001b[0m \u001b[0mtime\u001b[0m\u001b[1;33m.\u001b[0m\u001b[0mclock\u001b[0m\u001b[1;33m\u001b[0m\u001b[0m\n\u001b[1;32m----> 4\u001b[1;33m \u001b[0mprint\u001b[0m\u001b[1;33m(\u001b[0m\u001b[1;34m\"time used:\"\u001b[0m\u001b[1;33m,\u001b[0m \u001b[1;33m(\u001b[0m\u001b[0me\u001b[0m\u001b[1;33m-\u001b[0m\u001b[0ms\u001b[0m\u001b[1;33m)\u001b[0m\u001b[1;33m/\u001b[0m\u001b[1;36m60\u001b[0m\u001b[1;33m)\u001b[0m\u001b[1;33m\u001b[0m\u001b[0m\n\u001b[0m",
      "\u001b[1;31mTypeError\u001b[0m: unsupported operand type(s) for -: 'builtin_function_or_method' and 'float'"
     ]
    }
   ],
   "source": [
    "flight_dist = list(map(get_distance, airline_table.iterrows()))\n",
    "airline_table[\"flight_dist\"] = flight_dist\n",
    "airline_table.to_csv(\"airline_processed.csv\", encoding=\"utf-8\", index=False)"
   ]
  },
  {
   "cell_type": "code",
   "execution_count": 53,
   "metadata": {},
   "outputs": [
    {
     "data": {
      "text/plain": [
       "array([[<matplotlib.axes._subplots.AxesSubplot object at 0x000001B2185D0518>]],\n",
       "      dtype=object)"
      ]
     },
     "execution_count": 53,
     "metadata": {},
     "output_type": "execute_result"
    },
    {
     "data": {
      "image/png": "[encoded data removed]",
      "text/plain": [
       "<matplotlib.figure.Figure at 0x1b2185d0940>"
      ]
     },
     "metadata": {
      "needs_background": "light"
     },
     "output_type": "display_data"
    }
   ],
   "source": [
    "airline_table.hist(\"flight_dist\")"
   ]
  },
  {
   "cell_type": "markdown",
   "metadata": {},
   "source": [
    "從航程的分佈來看，可分為長途航班與短途航班"
   ]
  },
  {
   "cell_type": "code",
   "execution_count": 56,
   "metadata": {},
   "outputs": [
    {
     "data": {
      "text/plain": [
       "array([[<matplotlib.axes._subplots.AxesSubplot object at 0x000001B2120DC668>]],\n",
       "      dtype=object)"
      ]
     },
     "execution_count": 56,
     "metadata": {},
     "output_type": "execute_result"
    },
    {
     "data": {
      "image/png": "[encoded data removed]",
      "text/plain": [
       "<matplotlib.figure.Figure at 0x1b20f8b9748>"
      ]
     },
     "metadata": {
      "needs_background": "light"
     },
     "output_type": "display_data"
    }
   ],
   "source": [
    "airline_table[airline_table[\"flight_time\"] >= 14].hist(\"flight_dist\")"
   ]
  },
  {
   "cell_type": "markdown",
   "metadata": {},
   "source": [
    "從台灣到曼谷只有2000km左右，但是飛行時間超過14小時"
   ]
  },
  {
   "cell_type": "code",
   "execution_count": 64,
   "metadata": {},
   "outputs": [
    {
     "data": {
      "text/plain": [
       "array([[<matplotlib.axes._subplots.AxesSubplot object at 0x000001B218E63BA8>]],\n",
       "      dtype=object)"
      ]
     },
     "execution_count": 64,
     "metadata": {},
     "output_type": "execute_result"
    },
    {
     "data": {
      "image/png": "[encoded data removed]",
      "text/plain": [
       "<matplotlib.figure.Figure at 0x1b21b63db00>"
      ]
     },
     "metadata": {
      "needs_background": "light"
     },
     "output_type": "display_data"
    }
   ],
   "source": [
    "airline_table[airline_table[\"flight_time\"] < 14].hist(\"flight_dist\")"
   ]
  },
  {
   "cell_type": "markdown",
   "metadata": {},
   "source": [
    "飛行時間小於14小時的航班中，按照飛行距離又可能存在3個群體"
   ]
  },
  {
   "cell_type": "code",
   "execution_count": 71,
   "metadata": {},
   "outputs": [],
   "source": [
    "train_table = pd.merge(train_set, order_table, on=\"order_id\", how=\"left\")\n",
    "train_airline = airline_table[airline_table.group_id.isin(train_table[\"group_id\"])]"
   ]
  },
  {
   "cell_type": "code",
   "execution_count": 79,
   "metadata": {},
   "outputs": [
    {
     "data": {
      "text/html": [
       "<div>\n",
       "<style scoped>\n",
       "    .dataframe tbody tr th:only-of-type {\n",
       "        vertical-align: middle;\n",
       "    }\n",
       "\n",
       "    .dataframe tbody tr th {\n",
       "        vertical-align: top;\n",
       "    }\n",
       "\n",
       "    .dataframe thead th {\n",
       "        text-align: right;\n",
       "    }\n",
       "</style>\n",
       "<table border=\"1\" class=\"dataframe\">\n",
       "  <thead>\n",
       "    <tr style=\"text-align: right;\">\n",
       "      <th></th>\n",
       "      <th>group_id</th>\n",
       "      <th>go_back</th>\n",
       "      <th>fly_time</th>\n",
       "      <th>src_airport</th>\n",
       "      <th>arrive_time</th>\n",
       "      <th>dst_airport</th>\n",
       "      <th>src_tz</th>\n",
       "      <th>dst_tz</th>\n",
       "      <th>flight_time</th>\n",
       "      <th>flight_dist</th>\n",
       "    </tr>\n",
       "  </thead>\n",
       "  <tbody>\n",
       "    <tr>\n",
       "      <th>0</th>\n",
       "      <td>63695</td>\n",
       "      <td>去程</td>\n",
       "      <td>2017-03-22 23:30:00</td>\n",
       "      <td>TPE</td>\n",
       "      <td>2017-03-22 14:15:00</td>\n",
       "      <td>HNL</td>\n",
       "      <td>8.0</td>\n",
       "      <td>-10.0</td>\n",
       "      <td>8.750000</td>\n",
       "      <td>8157.165451</td>\n",
       "    </tr>\n",
       "    <tr>\n",
       "      <th>1</th>\n",
       "      <td>63695</td>\n",
       "      <td>回程</td>\n",
       "      <td>2017-04-01 14:30:00</td>\n",
       "      <td>LAX</td>\n",
       "      <td>2017-04-02 21:00:00</td>\n",
       "      <td>TPE</td>\n",
       "      <td>-8.0</td>\n",
       "      <td>8.0</td>\n",
       "      <td>14.500000</td>\n",
       "      <td>10941.810174</td>\n",
       "    </tr>\n",
       "    <tr>\n",
       "      <th>2</th>\n",
       "      <td>53481</td>\n",
       "      <td>去程</td>\n",
       "      <td>2017-05-17 23:00:00</td>\n",
       "      <td>TPE</td>\n",
       "      <td>2017-05-17 14:45:00</td>\n",
       "      <td>HNL</td>\n",
       "      <td>8.0</td>\n",
       "      <td>-10.0</td>\n",
       "      <td>9.750000</td>\n",
       "      <td>8157.165451</td>\n",
       "    </tr>\n",
       "    <tr>\n",
       "      <th>3</th>\n",
       "      <td>53481</td>\n",
       "      <td>回程</td>\n",
       "      <td>2017-05-27 16:00:00</td>\n",
       "      <td>LAX</td>\n",
       "      <td>2017-05-28 21:05:00</td>\n",
       "      <td>TPE</td>\n",
       "      <td>-8.0</td>\n",
       "      <td>8.0</td>\n",
       "      <td>13.083333</td>\n",
       "      <td>10941.810174</td>\n",
       "    </tr>\n",
       "    <tr>\n",
       "      <th>4</th>\n",
       "      <td>54305</td>\n",
       "      <td>去程</td>\n",
       "      <td>2017-06-21 23:30:00</td>\n",
       "      <td>TPE</td>\n",
       "      <td>2017-06-21 14:15:00</td>\n",
       "      <td>HNL</td>\n",
       "      <td>8.0</td>\n",
       "      <td>-10.0</td>\n",
       "      <td>8.750000</td>\n",
       "      <td>8157.165451</td>\n",
       "    </tr>\n",
       "  </tbody>\n",
       "</table>\n",
       "</div>"
      ],
      "text/plain": [
       "  group_id go_back            fly_time src_airport         arrive_time  \\\n",
       "0    63695      去程 2017-03-22 23:30:00         TPE 2017-03-22 14:15:00   \n",
       "1    63695      回程 2017-04-01 14:30:00         LAX 2017-04-02 21:00:00   \n",
       "2    53481      去程 2017-05-17 23:00:00         TPE 2017-05-17 14:45:00   \n",
       "3    53481      回程 2017-05-27 16:00:00         LAX 2017-05-28 21:05:00   \n",
       "4    54305      去程 2017-06-21 23:30:00         TPE 2017-06-21 14:15:00   \n",
       "\n",
       "  dst_airport  src_tz  dst_tz  flight_time   flight_dist  \n",
       "0         HNL     8.0   -10.0     8.750000   8157.165451  \n",
       "1         TPE    -8.0     8.0    14.500000  10941.810174  \n",
       "2         HNL     8.0   -10.0     9.750000   8157.165451  \n",
       "3         TPE    -8.0     8.0    13.083333  10941.810174  \n",
       "4         HNL     8.0   -10.0     8.750000   8157.165451  "
      ]
     },
     "execution_count": 79,
     "metadata": {},
     "output_type": "execute_result"
    }
   ],
   "source": [
    "airline_table.head()"
   ]
  },
  {
   "cell_type": "code",
   "execution_count": 100,
   "metadata": {},
   "outputs": [
    {
     "name": "stderr",
     "output_type": "stream",
     "text": [
      "C:\\Users\\S\\Anaconda3\\lib\\site-packages\\pandas\\core\\groupby.py:4291: FutureWarning: using a dict with renaming is deprecated and will be removed in a future version\n",
      "  return super(DataFrameGroupBy, self).aggregate(arg, *args, **kwargs)\n"
     ]
    }
   ],
   "source": [
    "gb = airline_table.groupby(\"group_id\", as_index=False)\n",
    "gb = gb.agg({\"flight_time\": {\"flight_time_sum\": \"sum\",\n",
    "                             \"flight_time_mean\": \"mean\",\n",
    "                             \"flight_time_std\": \"std\",\n",
    "                             \"flight_time_min\": \"min\",\n",
    "                             \"flight_time_max\": \"max\"},\n",
    "             \"flight_dist\": {\"flight_dist_sum\": \"sum\",\n",
    "                             \"flight_dist_mean\": \"mean\",\n",
    "                             \"flight_dist_std\": \"std\",\n",
    "                             \"flight_dist_min\": \"min\",\n",
    "                             \"flight_dist_max\": \"max\"}})\n",
    "new_colname = [gb.columns.values[0][0]]\n",
    "for col in gb.columns.values[1:]:\n",
    "    new_colname.append(col[1])\n",
    "gb.columns = new_colname"
   ]
  },
  {
   "cell_type": "code",
   "execution_count": 102,
   "metadata": {},
   "outputs": [],
   "source": [
    "gb2 = airline_table.groupby(\"group_id\", as_index=False)"
   ]
  },
  {
   "cell_type": "code",
   "execution_count": 190,
   "metadata": {},
   "outputs": [
    {
     "data": {
      "text/html": [
       "<div>\n",
       "<style scoped>\n",
       "    .dataframe tbody tr th:only-of-type {\n",
       "        vertical-align: middle;\n",
       "    }\n",
       "\n",
       "    .dataframe tbody tr th {\n",
       "        vertical-align: top;\n",
       "    }\n",
       "\n",
       "    .dataframe thead th {\n",
       "        text-align: right;\n",
       "    }\n",
       "</style>\n",
       "<table border=\"1\" class=\"dataframe\">\n",
       "  <thead>\n",
       "    <tr style=\"text-align: right;\">\n",
       "      <th></th>\n",
       "      <th>group_id</th>\n",
       "      <th>go_back</th>\n",
       "      <th>fly_time</th>\n",
       "      <th>src_airport</th>\n",
       "      <th>arrive_time</th>\n",
       "      <th>dst_airport</th>\n",
       "      <th>src_tz</th>\n",
       "      <th>dst_tz</th>\n",
       "      <th>flight_time</th>\n",
       "      <th>flight_dist</th>\n",
       "    </tr>\n",
       "  </thead>\n",
       "  <tbody>\n",
       "    <tr>\n",
       "      <th>22618</th>\n",
       "      <td>61021</td>\n",
       "      <td>去程</td>\n",
       "      <td>2017-03-14 20:50:00</td>\n",
       "      <td>KHH</td>\n",
       "      <td>2017-03-14 21:45:00</td>\n",
       "      <td>TPE</td>\n",
       "      <td>8.0</td>\n",
       "      <td>8.0</td>\n",
       "      <td>0.916667</td>\n",
       "      <td>291.196558</td>\n",
       "    </tr>\n",
       "  </tbody>\n",
       "</table>\n",
       "</div>"
      ],
      "text/plain": [
       "      group_id go_back            fly_time src_airport         arrive_time  \\\n",
       "22618    61021      去程 2017-03-14 20:50:00         KHH 2017-03-14 21:45:00   \n",
       "\n",
       "      dst_airport  src_tz  dst_tz  flight_time  flight_dist  \n",
       "22618         TPE     8.0     8.0     0.916667   291.196558  "
      ]
     },
     "execution_count": 190,
     "metadata": {},
     "output_type": "execute_result"
    }
   ],
   "source": [
    "airline_table[airline_table[\"group_id\"]==\"61021\"]"
   ]
  }
 ],
 "metadata": {
  "kernelspec": {
   "display_name": "Python 3",
   "language": "python",
   "name": "python3"
  },
  "language_info": {
   "codemirror_mode": {
    "name": "ipython",
    "version": 3
   },
   "file_extension": ".py",
   "mimetype": "text/x-python",
   "name": "python",
   "nbconvert_exporter": "python",
   "pygments_lexer": "ipython3",
   "version": "3.6.4"
  }
 },
 "nbformat": 4,
 "nbformat_minor": 2
}
