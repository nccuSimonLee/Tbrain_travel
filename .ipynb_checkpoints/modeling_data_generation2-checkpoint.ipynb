{
 "cells": [
  {
   "cell_type": "code",
   "execution_count": 1,
   "metadata": {},
   "outputs": [
    {
     "name": "stderr",
     "output_type": "stream",
     "text": [
      "C:\\Users\\S\\Anaconda3\\lib\\site-packages\\gensim\\utils.py:1212: UserWarning: detected Windows; aliasing chunkize to chunkize_serial\n",
      "  warnings.warn(\"detected Windows; aliasing chunkize to chunkize_serial\")\n"
     ]
    }
   ],
   "source": [
    "%store -r __importData\n",
    "import pandas as pd\n",
    "import numpy as np\n",
    "from feature_extraction import AirlineFeature, GroupFeature, OrderFeature, \\\n",
    "                               MixingFeature, MeanEncoder\n",
    "import time"
   ]
  },
  {
   "cell_type": "code",
   "execution_count": 2,
   "metadata": {
    "scrolled": false
   },
   "outputs": [
    {
     "name": "stdout",
     "output_type": "stream",
     "text": [
      "import group_table\n"
     ]
    },
    {
     "name": "stderr",
     "output_type": "stream",
     "text": [
      "C:\\Users\\S\\Anaconda3\\lib\\site-packages\\IPython\\core\\interactiveshell.py:2850: DtypeWarning: Columns (0) have mixed types. Specify dtype option on import or set low_memory=False.\n",
      "  if self.run_code(code, result):\n"
     ]
    },
    {
     "name": "stdout",
     "output_type": "stream",
     "text": [
      "import airline_table\n"
     ]
    },
    {
     "name": "stderr",
     "output_type": "stream",
     "text": [
      "C:\\Users\\S\\Anaconda3\\lib\\site-packages\\IPython\\core\\interactiveshell.py:2850: DtypeWarning: Columns (0,1) have mixed types. Specify dtype option on import or set low_memory=False.\n",
      "  if self.run_code(code, result):\n"
     ]
    },
    {
     "name": "stdout",
     "output_type": "stream",
     "text": [
      "import order_table\n",
      "import train_set\n",
      "import test_set\n"
     ]
    }
   ],
   "source": [
    "__importData"
   ]
  },
  {
   "cell_type": "code",
   "execution_count": 3,
   "metadata": {
    "scrolled": true
   },
   "outputs": [
    {
     "name": "stdout",
     "output_type": "stream",
     "text": [
      "group_table: 38.0360826763933 seconds\n",
      "order_table: 65.08371738071439 seconds\n"
     ]
    },
    {
     "name": "stderr",
     "output_type": "stream",
     "text": [
      "C:\\Users\\S\\Anaconda3\\lib\\site-packages\\pandas\\core\\groupby.py:4291: FutureWarning: using a dict with renaming is deprecated and will be removed in a future version\n",
      "  return super(DataFrameGroupBy, self).aggregate(arg, *args, **kwargs)\n"
     ]
    },
    {
     "name": "stdout",
     "output_type": "stream",
     "text": [
      "airline_table: 235.57038082911714 seconds\n"
     ]
    },
    {
     "name": "stderr",
     "output_type": "stream",
     "text": [
      "C:\\Users\\S\\Anaconda3\\lib\\site-packages\\IPython\\core\\interactiveshell.py:2850: DtypeWarning: Columns (0) have mixed types. Specify dtype option on import or set low_memory=False.\n",
      "  if self.run_code(code, result):\n"
     ]
    }
   ],
   "source": [
    "drop_feature = []\n",
    "\n",
    "s = time.clock()\n",
    "group_table = GroupFeature.group_feature(group_table, drop_feature)\n",
    "e = time.clock()\n",
    "print(\"group_table:\", e-s, \"seconds\")\n",
    "\n",
    "s = time.clock()\n",
    "order_table = OrderFeature.order_feature(order_table, drop_feature)\n",
    "e = time.clock()\n",
    "print(\"order_table:\", e-s, \"seconds\")\n",
    "\n",
    "s = time.clock()\n",
    "airline_table = AirlineFeature.airline_feature(airline_table, drop_feature)\n",
    "e = time.clock()\n",
    "print(\"airline_table:\", e-s, \"seconds\")\n",
    "\n",
    "main_table = pd.merge(order_table, group_table, on=\"group_id\", how=\"left\")\n",
    "main_table = pd.merge(main_table, airline_table, on=\"group_id\", how=\"left\")\n",
    "main_table = MixingFeature.mixing_feature(main_table, drop_feature)\n",
    "main_table.drop(columns=drop_feature, inplace=True)"
   ]
  },
  {
   "cell_type": "code",
   "execution_count": 5,
   "metadata": {},
   "outputs": [],
   "source": [
    "train_set = pd.merge(train_set, main_table, on=\"order_id\", how=\"left\")\n",
    "test_set = pd.merge(test_set, main_table, on=\"order_id\", how=\"left\")\n",
    "train_set.to_csv(\"dataset/train_val/training_set.csv\", encoding=\"utf-8\", index=False)\n",
    "test_set.to_csv(\"dataset/train_val/testing_set.csv\", encoding=\"utf-8\", index=False)"
   ]
  },
  {
   "cell_type": "code",
   "execution_count": 10,
   "metadata": {},
   "outputs": [
    {
     "data": {
      "text/plain": [
       "1    202347\n",
       "2     87558\n",
       "3      7115\n",
       "Name: source_1, dtype: int64"
      ]
     },
     "execution_count": 10,
     "metadata": {},
     "output_type": "execute_result"
    }
   ],
   "source": [
    "train_set.source_1.value_counts()"
   ]
  }
 ],
 "metadata": {
  "kernelspec": {
   "display_name": "Python 3",
   "language": "python",
   "name": "python3"
  },
  "language_info": {
   "codemirror_mode": {
    "name": "ipython",
    "version": 3
   },
   "file_extension": ".py",
   "mimetype": "text/x-python",
   "name": "python",
   "nbconvert_exporter": "python",
   "pygments_lexer": "ipython3",
   "version": "3.6.4"
  }
 },
 "nbformat": 4,
 "nbformat_minor": 2
}
